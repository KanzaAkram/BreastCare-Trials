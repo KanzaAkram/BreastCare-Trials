{
 "metadata": {
  "kernelspec": {
   "display_name": "Streamlit Notebook",
   "name": "streamlit"
  },
  "lastEditStatus": {
   "notebookId": "phmhsfjszye4skyxr4tf",
   "authorId": "8919839647135",
   "authorName": "KANZAAKRAM",
   "authorEmail": "kanzaakram123@gmail.com",
   "sessionId": "535bbbef-b442-4f84-b042-f69f2e52be74",
   "lastEditTime": 1737141245271
  }
 },
 "nbformat_minor": 5,
 "nbformat": 4,
 "cells": [
  {
   "cell_type": "markdown",
   "id": "41335750-a774-4fd1-bb75-386ba44861f1",
   "metadata": {
    "name": "cell4",
    "collapsed": false,
    "resultHeight": 74
   },
   "source": "# Importing Libraries"
  },
  {
   "cell_type": "code",
   "id": "3775908f-ca36-4846-8f38-5adca39217f2",
   "metadata": {
    "language": "python",
    "name": "cell1",
    "collapsed": false,
    "resultHeight": 88
   },
   "source": "from trulens.core import TruSession\nfrom trulens.connectors.snowflake import SnowflakeConnector\nfrom snowflake.snowpark.context import get_active_session\n\nsnowpark_session = get_active_session()\nconn = SnowflakeConnector(snowpark_session=snowpark_session)\nsession = TruSession()",
   "execution_count": null,
   "outputs": []
  },
  {
   "cell_type": "markdown",
   "id": "498134b4-7dba-466c-ba0d-68d688c1a84f",
   "metadata": {
    "name": "cell3",
    "collapsed": false,
    "resultHeight": 74
   },
   "source": "# Add and create your custom ground-truth dataset to TruLens\n"
  },
  {
   "cell_type": "code",
   "id": "4f00114a-f5f7-464b-ad09-379248c76496",
   "metadata": {
    "language": "python",
    "name": "cell2",
    "resultHeight": 83
   },
   "outputs": [],
   "source": "\nimport pandas as pd\n\n# Define expected chunks for clinical trials with more detailed and structured data\nexpected_chunks = [\n    {\n        \"text\": \"The D3L-001 clinical trial is a Phase 2 study evaluating the safety and efficacy of a novel HER2-targeted monoclonal antibody in patients with HER2-positive advanced solid tumors, including metastatic breast cancer.\",\n        \"title\": \"D3L-001 Trial Overview\",\n        \"expected_score\": 0.95,  # Very high accuracy\n    },\n    {\n        \"text\": \"The primary outcome measure is progression-free survival (PFS) as assessed by radiographic imaging, with secondary outcomes including overall survival (OS) and quality of life (QoL) assessments.\",\n        \"title\": \"Outcome Measures\",\n        \"expected_score\": 0.9,  # High accuracy\n    },\n    {\n        \"text\": \"Inclusion criteria: Patients must have confirmed HER2-positive advanced solid tumors, including metastatic breast cancer, and must have experienced progression after at least one prior HER2-directed therapy. Exclusion criteria include history of hypersensitivity reactions to monoclonal antibodies.\",\n        \"title\": \"Eligibility Criteria\",\n        \"expected_score\": 0.9,  # High accuracy\n    },\n    {\n        \"text\": \"This clinical trial is being conducted across several sites in the United States, including major cancer centers in New York, California, and Texas. International locations include clinical research sites in Canada and Europe.\",\n        \"title\": \"Trial Locations\",\n        \"expected_score\": 0.85,  # High accuracy\n    },\n    {\n        \"text\": \"Patients participating in this trial are required to have normal organ function and an Eastern Cooperative Oncology Group (ECOG) performance status of 0 to 2.\",\n        \"title\": \"Additional Criteria\",\n        \"expected_score\": 0.8,  # Moderate accuracy\n    },\n    {\n        \"text\": \"While some breast cancer clinical trials focus on earlier-stage disease or non-HER2-positive tumors, the D3L-001 trial specifically targets advanced, HER2-positive breast cancer, a subgroup of patients with a high unmet medical need.\",\n        \"title\": \"General Clinical Trial Information\",\n        \"expected_score\": 0.7,  # Moderate accuracy\n    },\n]\n\n# Mock data for a query about clinical trials\ndata = {\n    \"query\": [\"What is the D3L-001 trial, and what outcomes does it aim to achieve?\"],\n    \"query_id\": [\"1\"],\n    \"expected_response\": [\"D3L-001 Trial Overview and Outcome Measures\"],\n    \"expected_chunks\": [expected_chunks],\n}\n\n# Create a DataFrame\ndf = pd.DataFrame(data)\n\n# Display the DataFrame (for debugging or confirmation)\nprint(df)\n",
   "execution_count": null
  },
  {
   "cell_type": "code",
   "id": "f2567c75-8251-4e67-be33-9fa6cca2d97f",
   "metadata": {
    "language": "python",
    "name": "cell5",
    "collapsed": false,
    "resultHeight": 0
   },
   "outputs": [],
   "source": "session.add_ground_truth_to_dataset(\n    dataset_name=\"breast_cancer_clinical_trials_dataset\",  # More descriptive dataset name\n    ground_truth_df=df,  # The updated DataFrame with detailed ground truth data\n    dataset_metadata={\n        \"domain\": \"Breast Cancer Clinical Trials\",  # More specific domain description\n        \"data_source\": \"Clinical Trial Data (D3L-001)\",  #specify where the data is sourced from\n        \"trial_type\": \"HER2-positive Advanced Solid Tumors\",  # Add more relevant details if necessary\n        \"language\": \"English\",  # Specify language if applicable\n        \"version\": \"1.0\",  # Optional: Add versioning for future updates to the dataset\n    },\n)\n",
   "execution_count": null
  },
  {
   "cell_type": "code",
   "id": "499750ca-8d1a-4323-a927-3dd252305c48",
   "metadata": {
    "language": "python",
    "name": "cell6",
    "collapsed": false,
    "resultHeight": 0
   },
   "outputs": [],
   "source": "ground_truth_df = session.get_ground_truth(\"breast_cancer_clinical_trials_dataset\")",
   "execution_count": null
  },
  {
   "cell_type": "markdown",
   "id": "f0eac83d-f77c-487c-bd0e-5dcfe48a09c1",
   "metadata": {
    "name": "cell7",
    "collapsed": false,
    "resultHeight": 46
   },
   "source": "### Inspecting the below dataframe to see the columns and their value"
  },
  {
   "cell_type": "code",
   "id": "2cf09891-d313-45f4-a2aa-a6b0336c7984",
   "metadata": {
    "language": "python",
    "name": "cell8",
    "collapsed": false,
    "resultHeight": 113
   },
   "outputs": [],
   "source": "ground_truth_df",
   "execution_count": null
  },
  {
   "cell_type": "code",
   "id": "fe53f580-ab63-484f-b00a-3f88be620bcf",
   "metadata": {
    "language": "python",
    "name": "cell26",
    "collapsed": false,
    "resultHeight": 110
   },
   "outputs": [],
   "source": "from snowflake.snowpark.context import get_active_session\nfrom trulens.connectors.snowflake import SnowflakeConnector\nfrom trulens.feedback import GroundTruthAgreement\nfrom trulens.providers.cortex import Cortex\n\n# Get the active Snowflake session\nsnowpark_session = get_active_session()\n\n# Create a connector using the active session\nconn = SnowflakeConnector(snowpark_session=snowpark_session)\n\n# Create a Cortex provider using the active session\nprovider = Cortex(\n    snowpark_session=snowpark_session, \n    model_engine=\"mistral-large2\"\n)\n\nprint(\"Provider initialized successfully!\")\n",
   "execution_count": null
  },
  {
   "cell_type": "code",
   "id": "2e246b7b-9609-49e1-b460-d90494098095",
   "metadata": {
    "language": "python",
    "name": "cell10",
    "resultHeight": 1183
   },
   "outputs": [],
   "source": "expected_chunks",
   "execution_count": null
  },
  {
   "cell_type": "code",
   "id": "0c1cf428-c7a4-4973-939b-9bb9ac984348",
   "metadata": {
    "language": "python",
    "name": "cell11",
    "resultHeight": 318,
    "collapsed": false
   },
   "outputs": [],
   "source": "query = \"What is the D3L-001 trial, and what outcomes does it aim to achieve?\"\n\nretrieved_chunks = [\n    \"The D3L-001 clinical trial is a Phase 2 study evaluating the safety and efficacy of a novel HER2-targeted monoclonal antibody in patients with HER2-positive advanced solid tumors, including metastatic breast cancer.\",\n    \"This clinical trial is being conducted across several sites in the United States, including major cancer centers in New York, California, and Texas. International locations include clinical research sites in Canada and Europe.\",\n    \"Inclusion criteria: Patients must have confirmed HER2-positive advanced solid tumors, including metastatic breast cancer, and must have experienced progression after at least one prior HER2-directed therapy. Exclusion criteria include history of hypersensitivity reactions to monoclonal antibodies.\",\n]\n\nretrieved_chunks\n",
   "execution_count": null
  },
  {
   "cell_type": "markdown",
   "id": "d5e5f01a-e462-49b9-bb86-15248c7f5b7e",
   "metadata": {
    "name": "cell12",
    "collapsed": false,
    "resultHeight": 74
   },
   "source": "# Precision"
  },
  {
   "cell_type": "code",
   "id": "0087a97d-1bcb-4bbc-a4de-0b818c5220a6",
   "metadata": {
    "language": "python",
    "name": "cell13",
    "resultHeight": 108,
    "collapsed": false
   },
   "outputs": [],
   "source": "GroundTruthAgreement(ground_truth_df, provider=provider).precision_at_k(query, retrieved_chunks)",
   "execution_count": null
  },
  {
   "cell_type": "markdown",
   "id": "7b8d119b-8a0a-4845-8390-4160369163a0",
   "metadata": {
    "name": "cell14",
    "collapsed": false,
    "resultHeight": 74
   },
   "source": "# Recall"
  },
  {
   "cell_type": "code",
   "id": "3cad3c21-c023-4105-a6fc-17289ed6ebb4",
   "metadata": {
    "language": "python",
    "name": "cell15",
    "resultHeight": 57,
    "collapsed": false
   },
   "outputs": [],
   "source": "GroundTruthAgreement(ground_truth_df, provider=provider).recall_at_k(query, retrieved_chunks)",
   "execution_count": null
  },
  {
   "cell_type": "markdown",
   "id": "13c1f4ed-dd12-4b64-bff0-321461a785a6",
   "metadata": {
    "name": "cell16",
    "collapsed": false,
    "resultHeight": 60
   },
   "source": "## What if we get one expected chunk and one unexpected chunk"
  },
  {
   "cell_type": "code",
   "id": "6e72e797-217a-42b8-aa19-4b6fcbbbd776",
   "metadata": {
    "language": "python",
    "name": "cell17",
    "resultHeight": 0,
    "collapsed": false
   },
   "outputs": [],
   "source": "query = \"What is the D3L-001 trial, and what outcomes does it aim to achieve?\"\n\nretrieved_chunks = [\n    \"The D3L-001 clinical trial is a Phase 2 study evaluating the safety and efficacy of a novel HER2-targeted monoclonal antibody in patients with HER2-positive advanced solid tumors, including metastatic breast cancer.\",\n    \"The beluga is adapted to life in the Arctic, with anatomical and physiological characteristics that differentiate it from other cetaceans.\",\n]\n",
   "execution_count": null
  },
  {
   "cell_type": "markdown",
   "id": "24f62114-1625-4c18-b935-eb5518a25449",
   "metadata": {
    "name": "cell19",
    "collapsed": false,
    "resultHeight": 60
   },
   "source": "## Precision"
  },
  {
   "cell_type": "code",
   "id": "9e85e951-cc41-4cf3-90ba-18359eefa7fa",
   "metadata": {
    "language": "python",
    "name": "cell20",
    "resultHeight": 57,
    "collapsed": false
   },
   "outputs": [],
   "source": "GroundTruthAgreement(ground_truth_df, provider=provider).precision_at_k(query, retrieved_chunks)",
   "execution_count": null
  },
  {
   "cell_type": "markdown",
   "id": "602145e6-efa0-46a7-99c8-c3cae357d345",
   "metadata": {
    "name": "cell21",
    "collapsed": false,
    "resultHeight": 60
   },
   "source": "## Precision@1"
  },
  {
   "cell_type": "code",
   "id": "06fe00e9-5b1c-4b3c-8955-34a15470dfe0",
   "metadata": {
    "language": "python",
    "name": "cell22",
    "resultHeight": 57,
    "collapsed": false
   },
   "outputs": [],
   "source": "GroundTruthAgreement(ground_truth_df, provider=provider).precision_at_k(query, retrieved_chunks, k=1)",
   "execution_count": null
  },
  {
   "cell_type": "markdown",
   "id": "9ee61c26-2a22-4ef7-b1b1-e1333e4be271",
   "metadata": {
    "name": "cell24",
    "collapsed": false,
    "resultHeight": 60
   },
   "source": "## Recall"
  },
  {
   "cell_type": "code",
   "id": "4bc1f111-c1e8-4c52-b23a-35349bd7c238",
   "metadata": {
    "language": "python",
    "name": "cell23",
    "resultHeight": 57,
    "collapsed": false
   },
   "outputs": [],
   "source": "GroundTruthAgreement(ground_truth_df, provider=provider).recall_at_k(query, retrieved_chunks)",
   "execution_count": null
  },
  {
   "cell_type": "markdown",
   "id": "7e8b7494-517e-40ac-8501-765346b815e4",
   "metadata": {
    "name": "cell39",
    "collapsed": false,
    "resultHeight": 74
   },
   "source": "# Retrieval system"
  },
  {
   "cell_type": "code",
   "id": "46a53942-1baa-445c-a75d-2d9840cc8db1",
   "metadata": {
    "language": "sql",
    "name": "cell9",
    "resultHeight": 113,
    "collapsed": false
   },
   "outputs": [],
   "source": "DESCRIBE CORTEX SEARCH SERVICE CC_SEARCH_SERVICE_CS",
   "execution_count": null
  },
  {
   "cell_type": "code",
   "id": "03703e90-50bb-4ddf-a002-ca8c76ee8769",
   "metadata": {
    "language": "python",
    "name": "cell18",
    "resultHeight": 0,
    "collapsed": false
   },
   "outputs": [],
   "source": "import os\nfrom snowflake.core import Root\nfrom typing import List\nfrom trulens.apps.custom import instrument\n\nfrom snowflake.snowpark.session import Session\n\nclass CortexSearchRetriever:\n\n    def __init__(self, snowpark_session: Session, limit_to_retrieve: int = 3):\n        self._snowpark_session = snowpark_session\n        self._limit_to_retrieve = limit_to_retrieve\n\n    @instrument\n    def retrieve(self, query: str) -> List[str]:\n        root = Root(self._snowpark_session)\n        cortex_search_service = (\n            root.databases[\"breastcareTrials_db\"]\n            .schemas[\"breastcare_schema\"]\n            .cortex_search_services[\"CC_SEARCH_SERVICE_CS\"]\n        )\n        resp = cortex_search_service.search(\n            query=query,\n            columns=[\"CHUNK\"],\n            limit=self._limit_to_retrieve,\n        )\n\n        if resp.results:\n            return [curr[\"CHUNK\"] for curr in resp.results]\n        else:\n            return []",
   "execution_count": null
  },
  {
   "cell_type": "code",
   "id": "99a7f697-1071-48e6-b300-67e510c112ef",
   "metadata": {
    "language": "python",
    "name": "cell25",
    "collapsed": false,
    "resultHeight": 833
   },
   "outputs": [],
   "source": "retriever = CortexSearchRetriever(snowpark_session=snowpark_session, limit_to_retrieve=3)\n\nretrieved_context = retriever.retrieve(query=\"What is the D3L-001 trial, and what outcomes does it aim to achieve?\")\n\nretrieved_context",
   "execution_count": null
  },
  {
   "cell_type": "markdown",
   "id": "00e24862-0c8d-40be-aaa4-0a7702e14ffc",
   "metadata": {
    "name": "cell27",
    "collapsed": false,
    "resultHeight": 74
   },
   "source": "# Add in TruLens Evals"
  },
  {
   "cell_type": "code",
   "id": "e53aa237-1532-4ff7-995f-d3a607378017",
   "metadata": {
    "language": "python",
    "name": "cell28",
    "collapsed": false,
    "resultHeight": 155
   },
   "outputs": [],
   "source": "from trulens.providers.cortex.provider import Cortex\nfrom trulens.core import Feedback\nfrom trulens.core import Select\nfrom snowflake.snowpark.context import get_active_session\nfrom trulens.connectors.snowflake import SnowflakeConnector\nimport numpy as np\n\n# Get the active Snowflake session\nsnowpark_session = get_active_session()\n\n# Create a connector using the active session\nconn = SnowflakeConnector(snowpark_session=snowpark_session)\n\n# Initialize the Cortex provider using the snowpark_session\nprovider = Cortex(snowpark_session=snowpark_session, model_engine=\"mistral-large2\")\n\n# Define feedback for context relevance\nf_context_relevance = (\n    Feedback(provider.context_relevance, name=\"Context Relevance\")\n    .on_input_output()\n    .aggregate(np.mean)\n)\n\nprint(\"Cortex provider and feedback initialized successfully!\")\n",
   "execution_count": null
  },
  {
   "cell_type": "code",
   "id": "aa83a027-6fc9-4bd6-b706-0e9d7e543ef2",
   "metadata": {
    "language": "python",
    "name": "cell29",
    "collapsed": false,
    "resultHeight": 57
   },
   "outputs": [],
   "source": "f_context_relevance(\"What is the D3L-001 trial, and what outcomes does it aim to achieve?\", retrieved_context)",
   "execution_count": null
  },
  {
   "cell_type": "markdown",
   "id": "5685ad90-ab32-4a8e-b355-4a08ab161949",
   "metadata": {
    "name": "cell30",
    "collapsed": false,
    "resultHeight": 74
   },
   "source": "# Register an app"
  },
  {
   "cell_type": "code",
   "id": "3e825181-4eee-4b1c-b192-f7d1827aadc0",
   "metadata": {
    "language": "python",
    "name": "cell31",
    "collapsed": false,
    "resultHeight": 0
   },
   "outputs": [],
   "source": "from trulens.apps.custom import TruCustomApp\n\ntru_retriever = TruCustomApp(\n    retriever,\n    app_name=\"BreastCareTrial Retriever\",\n    app_version=\"base\",\n    feedbacks=[f_context_relevance],\n)",
   "execution_count": null
  },
  {
   "cell_type": "code",
   "id": "914999ee-3a8e-49c2-b2e5-7a6602616a34",
   "metadata": {
    "language": "python",
    "name": "cell32",
    "collapsed": false,
    "resultHeight": 833
   },
   "outputs": [],
   "source": "with tru_retriever as recording:\n    retrieved_documents = retriever.retrieve(\"What is the D3L-001 trial, and what outcomes does it aim to achieve?\")\n\nretrieved_documents",
   "execution_count": null
  },
  {
   "cell_type": "code",
   "id": "399b4833-95a7-409d-a8c0-7c18b50baad7",
   "metadata": {
    "language": "python",
    "name": "cell33",
    "collapsed": false,
    "resultHeight": 148
   },
   "outputs": [],
   "source": "session.get_leaderboard()",
   "execution_count": null
  },
  {
   "cell_type": "code",
   "id": "53bd95f5-a5d3-47d7-93f4-d504062a4c49",
   "metadata": {
    "language": "python",
    "name": "cell34",
    "collapsed": false,
    "resultHeight": 0
   },
   "outputs": [],
   "source": "from trulens.apps.custom import instrument\nfrom snowflake.cortex import Complete\n\n\nclass RAG:\n\n    def __init__(self):\n        self.retriever = CortexSearchRetriever(snowpark_session=snowpark_session, limit_to_retrieve=3)\n\n    @instrument\n    def retrieve_context(self, query: str) -> list:\n        \"\"\"\n        Retrieve relevant text from vector store.\n        \"\"\"\n        return self.retriever.retrieve(query)\n\n    @instrument\n    def generate_completion(self, query: str, context_str: list) -> str:\n        \"\"\"\n        Generate answer from context.\n        \"\"\"\n        prompt = f\"\"\"\n        You are an intelligent assistant specialized in breast cancer clinical trials.\n        Your responses should focus on trial information, eligibility requirements, and next steps.\n        Context: {context_str}\n          Question:\n          {query}\n          Answer:\n        \"\"\"\n        return Complete(\"mistral-large2\", prompt)\n\n    @instrument\n    def query(self, query: str) -> str:\n        context_str = self.retrieve_context(query)\n        return self.generate_completion(query, context_str)\n\n\nrag = RAG()",
   "execution_count": null
  },
  {
   "cell_type": "code",
   "id": "320766b5-86a6-4612-9dc2-df2cdad96d94",
   "metadata": {
    "language": "python",
    "name": "cell35",
    "collapsed": false,
    "resultHeight": 222
   },
   "outputs": [],
   "source": "from trulens.providers.cortex.provider import Cortex\nfrom snowflake.snowpark.context import get_active_session\nfrom trulens.connectors.snowflake import SnowflakeConnector\nfrom trulens.core import Feedback\nfrom trulens.core import Select\nfrom functools import partial\nimport numpy as np\n\n# Get the active Snowflake session (this should be the correct type, which is Session)\nsnowpark_session = get_active_session()\n\n# Create a connector using the active session\nconn = SnowflakeConnector(snowpark_session=snowpark_session)\n\n# Pass the actual session object to Cortex, not the connection\nprovider = Cortex(snowpark_session, \"mistral-large2\")\n\n# Feedbacks\nf_groundedness = (\n    Feedback(partial(provider.groundedness_measure_with_cot_reasons,\n            use_sent_tokenize=False), name=\"Groundedness\")\n    .on(Select.RecordCalls.retrieve_context.rets[:].collect())\n    .on_output()\n)\n\nf_context_relevance = (\n    Feedback(provider.context_relevance, name=\"Context Relevance\")\n    .on_input()\n    .on(Select.RecordCalls.retrieve_context.rets[:])\n    .aggregate(np.mean)\n)\n\nf_answer_relevance = (\n    Feedback(provider.relevance, name=\"Answer Relevance\")\n    .on_input()\n    .on_output()\n    .aggregate(np.mean)\n)\n",
   "execution_count": null
  },
  {
   "cell_type": "code",
   "id": "e6d90267-ce19-418b-b3cd-0dc66054f26e",
   "metadata": {
    "language": "python",
    "name": "cell36",
    "collapsed": false,
    "resultHeight": 0
   },
   "outputs": [],
   "source": "from trulens.apps.custom import TruCustomApp\n\ntru_rag = TruCustomApp(\n    rag,\n    app_name=\"BreastCareTrial\",\n    app_version=\"simple\",\n    feedbacks=[f_groundedness, f_answer_relevance, f_context_relevance],\n    )",
   "execution_count": null
  },
  {
   "cell_type": "code",
   "id": "00867dd9-0f05-456c-811d-2fbb8f5002ad",
   "metadata": {
    "language": "python",
    "name": "cell37",
    "collapsed": false,
    "resultHeight": 261
   },
   "outputs": [],
   "source": "with tru_rag as recording:\n    response = rag.query(\"What is the D3L-001 trial, and what outcomes does it aim to achieve?\")\n    \nresponse",
   "execution_count": null
  },
  {
   "cell_type": "code",
   "id": "8c7273b9-c778-4847-980b-5241a5768bcf",
   "metadata": {
    "language": "python",
    "name": "cell38",
    "collapsed": false,
    "resultHeight": 148
   },
   "outputs": [],
   "source": "session.get_leaderboard()",
   "execution_count": null
  }
 ]
}