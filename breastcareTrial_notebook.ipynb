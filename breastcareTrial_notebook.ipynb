{
 "metadata": {
  "kernelspec": {
   "display_name": "Streamlit Notebook",
   "name": "streamlit"
  }
 },
 "nbformat_minor": 5,
 "nbformat": 4,
 "cells": [
  {
   "cell_type": "code",
   "id": "3775908f-ca36-4846-8f38-5adca39217f2",
   "metadata": {
    "language": "python",
    "name": "cell1"
   },
   "source": "# Import python packages\nimport streamlit as st\nimport pandas as pd\n\n# We can also use Snowpark for our analyses!\nfrom snowflake.snowpark.context import get_active_session\nsession = get_active_session()\n",
   "execution_count": null,
   "outputs": []
  },
  {
   "cell_type": "code",
   "id": "8d50cbf4-0c8d-4950-86cb-114990437ac9",
   "metadata": {
    "language": "sql",
    "name": "cell2",
    "collapsed": false,
    "resultHeight": 113
   },
   "source": "USE DATABASE breastcareTrials_db",
   "execution_count": null,
   "outputs": []
  },
  {
   "cell_type": "code",
   "id": "f4c6ac22-0a4e-47b2-94b3-c01e0e3a5cde",
   "metadata": {
    "language": "sql",
    "name": "cell4",
    "collapsed": false,
    "resultHeight": 113
   },
   "outputs": [],
   "source": "CREATE OR REPLACE WAREHOUSE BREASTCARE_TRIALS WITH\n     WAREHOUSE_SIZE='X-SMALL'\n     AUTO_SUSPEND = 120\n     AUTO_RESUME = TRUE\n     INITIALLY_SUSPENDED=TRUE;",
   "execution_count": null
  },
  {
   "cell_type": "code",
   "id": "11059d1f-0004-4279-b697-f1b33a106515",
   "metadata": {
    "language": "sql",
    "name": "cell5",
    "collapsed": false,
    "resultHeight": 113
   },
   "outputs": [],
   "source": "USE WAREHOUSE breastcare_trials",
   "execution_count": null
  },
  {
   "cell_type": "code",
   "id": "a1494788-ae42-4b83-8f33-455b010c1949",
   "metadata": {
    "language": "sql",
    "name": "cell3",
    "collapsed": false,
    "resultHeight": 113
   },
   "outputs": [],
   "source": "CREATE SCHEMA IF NOT EXISTS breastcare_schema;",
   "execution_count": null
  },
  {
   "cell_type": "code",
   "id": "6bf27c10-d3b3-4d37-a7da-797bf47e04ba",
   "metadata": {
    "language": "sql",
    "name": "cell7",
    "collapsed": false,
    "resultHeight": 113
   },
   "outputs": [],
   "source": "USE SCHEMA breastcare_schema",
   "execution_count": null
  },
  {
   "cell_type": "code",
   "id": "7eacc11f-1735-4450-8858-e224ebf67289",
   "metadata": {
    "language": "sql",
    "name": "cell6",
    "collapsed": false,
    "resultHeight": 113
   },
   "outputs": [],
   "source": "create or replace stage breastcareTrials_stage ENCRYPTION = (TYPE = 'SNOWFLAKE_SSE') DIRECTORY = ( ENABLE = true );",
   "execution_count": null
  },
  {
   "cell_type": "code",
   "id": "c1021db0-a725-4040-bad5-c2c3339b8dbb",
   "metadata": {
    "language": "sql",
    "name": "cell8",
    "collapsed": false,
    "resultHeight": 440
   },
   "outputs": [],
   "source": "ls @breastcareTrials_stage;",
   "execution_count": null
  },
  {
   "cell_type": "markdown",
   "id": "67700fdb-9b5c-44aa-80db-e10c5cdc0e98",
   "metadata": {
    "name": "cell26",
    "collapsed": false,
    "resultHeight": 41
   },
   "source": "Creating text chunker function"
  },
  {
   "cell_type": "code",
   "id": "de6a7af2-cb91-43c5-b0ac-89e1beb18215",
   "metadata": {
    "language": "sql",
    "name": "cell9",
    "collapsed": false,
    "resultHeight": 113
   },
   "outputs": [],
   "source": "create or replace function text_chunker(pdf_text string)\nreturns table (chunk varchar)\nlanguage python\nruntime_version = '3.9'\nhandler = 'text_chunker'\npackages = ('snowflake-snowpark-python', 'langchain')\nas\n$$\nfrom snowflake.snowpark.types import StringType, StructField, StructType\nfrom langchain.text_splitter import RecursiveCharacterTextSplitter\nimport pandas as pd\n\nclass text_chunker:\n\n    def process(self, pdf_text: str):\n        \n        text_splitter = RecursiveCharacterTextSplitter(\n            chunk_size = 1512, #Adjust this as you see fit\n            chunk_overlap  = 256, #This let's text have some form of overlap. Useful for keeping chunks contextual\n            length_function = len\n        )\n    \n        chunks = text_splitter.split_text(pdf_text)\n        df = pd.DataFrame(chunks, columns=['chunks'])\n        \n        yield from df.itertuples(index=False, name=None)\n$$;",
   "execution_count": null
  },
  {
   "cell_type": "markdown",
   "id": "bd9d984c-2483-4e42-a2f0-8fe21b281b31",
   "metadata": {
    "name": "cell25",
    "collapsed": false,
    "resultHeight": 41
   },
   "source": "Create the table where we are going to store the chunks for each PDF"
  },
  {
   "cell_type": "code",
   "id": "1aa6d189-ffce-4aef-8e06-b2a6e2423542",
   "metadata": {
    "language": "sql",
    "name": "cell10",
    "collapsed": false,
    "resultHeight": 113
   },
   "outputs": [],
   "source": "create or replace TABLE breastcare_chunk_table ( \n    RELATIVE_PATH VARCHAR(16777216), -- Relative path to the PDF file\n    SIZE NUMBER(38,0), -- Size of the PDF\n    FILE_URL VARCHAR(16777216), -- URL for the PDF\n    SCOPED_FILE_URL VARCHAR(16777216), -- Scoped url (you can choose which one to keep depending on your use case)\n    CHUNK VARCHAR(16777216), -- Piece of text\n    CATEGORY VARCHAR(16777216) -- Will hold the document category to enable filtering\n);",
   "execution_count": null
  },
  {
   "cell_type": "markdown",
   "id": "ee733b9f-9982-4566-92a0-564d0555eca2",
   "metadata": {
    "name": "cell24",
    "collapsed": false,
    "resultHeight": 41
   },
   "source": "Function SNOWFLAKE.CORTEX.PARSE_DOCUMENT will be used to read the PDF documents directly from the staging area"
  },
  {
   "cell_type": "code",
   "id": "2e4bbb39-4ec0-4084-a9da-b9df2417e441",
   "metadata": {
    "language": "sql",
    "name": "cell11",
    "collapsed": false,
    "resultHeight": 113
   },
   "outputs": [],
   "source": "insert into breastcare_chunk_table (relative_path, size, file_url,\n                            scoped_file_url, chunk)\n\n    select relative_path, \n            size,\n            file_url, \n            build_scoped_file_url(@breastcareTrials_stage, relative_path) as scoped_file_url,\n            func.chunk as chunk\n    from \n        directory(@breastcareTrials_stage),\n        TABLE(text_chunker (TO_VARCHAR(SNOWFLAKE.CORTEX.PARSE_DOCUMENT(@breastcareTrials_stage, \n                              relative_path, {'mode': 'LAYOUT'})))) as func;",
   "execution_count": null
  },
  {
   "cell_type": "markdown",
   "id": "1ff66d17-c59e-44ab-8c89-53f0c0b5cef7",
   "metadata": {
    "name": "cell23",
    "collapsed": false,
    "resultHeight": 41
   },
   "source": "Example to check whether LLM is working"
  },
  {
   "cell_type": "code",
   "id": "f3620db8-063c-4c80-852c-7f9aee4c9472",
   "metadata": {
    "language": "sql",
    "name": "cell12",
    "collapsed": false,
    "resultHeight": 113
   },
   "outputs": [],
   "source": "SELECT SNOWFLAKE.CORTEX.COMPLETE('mistral-large2', 'Who is the best French painter? Answer in one short sentence.');",
   "execution_count": null
  },
  {
   "cell_type": "markdown",
   "id": "3df05550-32f1-4de6-a085-4733a72ca728",
   "metadata": {
    "name": "cell22",
    "collapsed": false,
    "resultHeight": 41
   },
   "source": "Classify the documents we are ingesting in our RAG application"
  },
  {
   "cell_type": "code",
   "id": "d01fd0ff-3bbe-465a-9638-44b3c67f9310",
   "metadata": {
    "language": "sql",
    "name": "cell13",
    "collapsed": false,
    "resultHeight": 113
   },
   "outputs": [],
   "source": "CREATE\nOR REPLACE TEMPORARY TABLE docs_categories AS WITH unique_documents AS (\n  SELECT\n    DISTINCT relative_path\n  FROM\n    breastcare_chunk_table\n),\ndocs_category_cte AS (\n  SELECT\n    relative_path,\n    TRIM(snowflake.cortex.COMPLETE (\n      'mistral-large2',\n      'Given the name of the file between <file> and </file> determine if it is related to breast cancer or clinical trial. Use only one word <file> ' || relative_path || '</file>'\n    ), '\\n') AS category\n  FROM\n    unique_documents\n)\nSELECT\n  *\nFROM\n  docs_category_cte;",
   "execution_count": null
  },
  {
   "cell_type": "code",
   "id": "bd5377fc-dfc8-40d9-a2a8-332dbe83d3de",
   "metadata": {
    "language": "sql",
    "name": "cell14",
    "collapsed": false,
    "resultHeight": 148
   },
   "outputs": [],
   "source": "select category from docs_categories group by category;",
   "execution_count": null
  },
  {
   "cell_type": "code",
   "id": "83679458-eacc-4d1d-99e4-4df9ef189c1e",
   "metadata": {
    "language": "sql",
    "name": "cell15",
    "collapsed": false,
    "resultHeight": 440
   },
   "outputs": [],
   "source": "select * from docs_categories;",
   "execution_count": null
  },
  {
   "cell_type": "markdown",
   "id": "6f123499-0191-4f1b-b0a5-e02537d261b9",
   "metadata": {
    "name": "cell21",
    "collapsed": false,
    "resultHeight": 41
   },
   "source": "Updating the table with the chunks of text that will be used by Cortex Search service"
  },
  {
   "cell_type": "code",
   "id": "30a38523-944f-495e-b5b1-20ccc031f5e4",
   "metadata": {
    "language": "sql",
    "name": "cell16",
    "collapsed": false,
    "resultHeight": 113
   },
   "outputs": [],
   "source": "update breastcare_chunk_table \n  SET category = docs_categories.category\n  from docs_categories\n  where  breastcare_chunk_table.relative_path = docs_categories.relative_path;",
   "execution_count": null
  },
  {
   "cell_type": "markdown",
   "id": "2a108f65-65b4-4f0d-a1d4-9199a66df32a",
   "metadata": {
    "name": "cell20",
    "collapsed": false,
    "resultHeight": 41
   },
   "source": "Create Cortex Search Service"
  },
  {
   "cell_type": "code",
   "id": "f1eb9c86-e01d-4893-8832-6e3c832fb5ee",
   "metadata": {
    "language": "sql",
    "name": "cell17",
    "collapsed": false,
    "resultHeight": 113
   },
   "outputs": [],
   "source": "create or replace CORTEX SEARCH SERVICE CC_SEARCH_SERVICE_CS\nON chunk\nATTRIBUTES category\nwarehouse = COMPUTE_WH\nTARGET_LAG = '1 minute'\nas (\n    select chunk,\n        relative_path,\n        file_url,\n        category\n    from breastcare_chunk_table\n);",
   "execution_count": null
  },
  {
   "cell_type": "markdown",
   "id": "419f8200-1050-4ec3-8356-f2df834c34ce",
   "metadata": {
    "name": "cell19",
    "collapsed": false,
    "resultHeight": 41
   },
   "source": "Automatic Processing of New Documents"
  },
  {
   "cell_type": "code",
   "id": "ee5d2a92-051a-46bb-9c57-5aa9e4c9c45f",
   "metadata": {
    "language": "sql",
    "name": "cell18",
    "collapsed": false,
    "resultHeight": 113
   },
   "outputs": [],
   "source": "create or replace stream docs_stream on stage breastcareTrials_stage;\n\ncreate or replace task parse_and_insert_pdf_task \n    warehouse = COMPUTE_WH\n    schedule = '1 minute'\n    when system$stream_has_data('docs_stream')\n    as\n  \n    insert into breastcare_chunk_table (relative_path, size, file_url,\n                            scoped_file_url, chunk)\n    select relative_path, \n            size,\n            file_url, \n            build_scoped_file_url(@breastcareTrials_stage, relative_path) as scoped_file_url,\n            func.chunk as chunk\n    from \n        docs_stream,\n        TABLE(text_chunker (TO_VARCHAR(SNOWFLAKE.CORTEX.PARSE_DOCUMENT(@breastcareTrials_stage, relative_path, {'mode': 'LAYOUT'})))) as func;\n\nalter task parse_and_insert_pdf_task resume;",
   "execution_count": null
  }
 ]
}